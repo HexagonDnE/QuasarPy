{
 "cells": [
  {
   "cell_type": "code",
   "execution_count": 5,
   "metadata": {},
   "outputs": [],
   "source": [
    "import sys\n",
    "sys.path.append('../src')\n",
    "import QuasarPy as Q"
   ]
  },
  {
   "cell_type": "code",
   "execution_count": 6,
   "metadata": {},
   "outputs": [
    {
     "name": "stdout",
     "output_type": "stream",
     "text": [
      "Quasar Path: C:\\Program Files\\ODYSSEE\\CAE\\QuasarEngine_2.exe\n"
     ]
    }
   ],
   "source": [
    "import numpy as np\n",
    "\n",
    "# quasar path pulled from environment\n",
    "print(\"Quasar Path:\", Q.get_quasar_exec())"
   ]
  },
  {
   "cell_type": "code",
   "execution_count": 7,
   "metadata": {},
   "outputs": [
    {
     "name": "stdout",
     "output_type": "stream",
     "text": [
      "Test Identity Pass\n",
      "L2 Norm of Identity Pass: 1.3874896105951156e-09\n",
      "Last Quasar Out: \n",
      "CPU times: total: 0 ns\n",
      "Wall time: 3.71 s\n"
     ]
    }
   ],
   "source": [
    "%%time\n",
    "# test _run_quasar with identity pass\n",
    "print(\"Test Identity Pass\")\n",
    "X = np.random.random((5, 5))\n",
    "input_data = {\"X\": X}\n",
    "output_keys = [\"Y\"]\n",
    "quasar_script = \"\"\"Matrix X = loadCsv(cwd+\"\\X.csv\")\\nX.saveCsv(cwd+\"\\Y.csv\", \"%16.8E\")\"\"\"  # noqa\n",
    "Y = Q._run_quasar(input_data, output_keys, quasar_script)\n",
    "print(\"L2 Norm of Identity Pass:\", np.linalg.norm(X - Y))\n",
    "print(\"Last Quasar Out:\", Q.get_quasar_out())"
   ]
  },
  {
   "cell_type": "code",
   "execution_count": 8,
   "metadata": {},
   "outputs": [
    {
     "name": "stdout",
     "output_type": "stream",
     "text": [
      "Test Printed Output\n",
      "None\n",
      "Last Quasar Out: Quasar Out\n",
      "CPU times: total: 0 ns\n",
      "Wall time: 3.53 s\n"
     ]
    }
   ],
   "source": [
    "%%time\n",
    "# test _run_quasar script that will result in a printed output (usually an error)\n",
    "print(\"Test Printed Output\")\n",
    "print(Q._run_quasar({}, [], 'print(\"Quasar Out\")'))\n",
    "print(\"Last Quasar Out:\", Q.get_quasar_out())"
   ]
  }
 ],
 "metadata": {
  "kernelspec": {
   "display_name": "Python 3.10.2 64-bit",
   "language": "python",
   "name": "python3"
  },
  "language_info": {
   "codemirror_mode": {
    "name": "ipython",
    "version": 3
   },
   "file_extension": ".py",
   "mimetype": "text/x-python",
   "name": "python",
   "nbconvert_exporter": "python",
   "pygments_lexer": "ipython3",
   "version": "3.10.2"
  },
  "orig_nbformat": 4,
  "vscode": {
   "interpreter": {
    "hash": "80eb843699b98308c9d96136dc09903d467536fd51cb9b3451a9ea1c27387fb7"
   }
  }
 },
 "nbformat": 4,
 "nbformat_minor": 2
}
